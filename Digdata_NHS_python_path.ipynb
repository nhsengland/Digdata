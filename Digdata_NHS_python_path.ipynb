{
  "nbformat": 4,
  "nbformat_minor": 0,
  "metadata": {
    "colab": {
      "provenance": []
    },
    "kernelspec": {
      "name": "python3",
      "display_name": "Python 3"
    },
    "language_info": {
      "name": "python"
    }
  },
  "cells": [
    {
      "cell_type": "markdown",
      "source": [
        "\n",
        "# Introduction to data analysis using pandas\n",
        "\n",
        "\n",
        "Pandas is a popular open source Python package for data science, data engineering, analytics, and machine learning.\n",
        "\n",
        "This notebook will give you a gentle introduction to pandas, but the exercises have been deisgned to allow you to complete them in multiple ways so feel free to google and find different functions. For more helpful documentation, check out these resources:\n",
        "\n",
        "## Completely new to coding?\n",
        "\n",
        "*   If you are new to google colab you can [watch an introduction to it here.](https://www.youtube.com/watch?v=inN8seMm7UI)\n",
        "*   If you have never used python before [you can read an introduction to the language here](https://www.w3schools.com/python/python_intro.asp)\n",
        "\n",
        "### New to pandas?\n",
        "\n",
        "*   Introduction to Pandas in colab: https://colab.google/articles/pandas  \n",
        "*   Pandas documentation introduction: https://pandas.pydata.org/docs/user_guide/10min.html\n",
        "\n",
        "\n",
        "\n",
        "\n",
        "\n",
        "\n",
        "\n",
        "![pandas.jpg](data:image/jpeg;base64,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)\n"
      ],
      "metadata": {
        "id": "GHZENUUJsnwO"
      }
    },
    {
      "cell_type": "code",
      "source": [
        "import pandas as pd"
      ],
      "metadata": {
        "id": "v-pabVBgbCgO"
      },
      "execution_count": null,
      "outputs": []
    },
    {
      "cell_type": "markdown",
      "source": [
        "# Data we are using for analysis\n",
        "\n",
        "This data is from the NSHBSA Open Data Portal, and is called the 'Prescription Cost analysis' dataset.\n",
        "\n",
        "https://opendata.nhsbsa.net/dataset/prescription-cost-analysis-pca-monthly-data\n",
        "\n",
        "This data is open source, which means:\n",
        "\n",
        "- We can share it openly\n",
        "- It has no security concerns\n",
        "\n",
        "This is a monthly dataset that describes how many medicines were prescribed across all GP Practices in england, per NHS Region, and what they cost.\n",
        "This is 'real data', so actually describes real anti-depressant prescribing in England.\n",
        "We have merged, simplified and filtered all these monthly files into a single dataset.\n",
        "\n",
        "The data is being read into this notebook using this github repo link below (do not delete).\n",
        "\n"
      ],
      "metadata": {
        "id": "2oy2DnM0XoUk"
      }
    },
    {
      "cell_type": "code",
      "source": [
        "! git clone https://github.com/nhsengland/Digdata"
      ],
      "metadata": {
        "id": "KNzPDYMrWoxQ"
      },
      "execution_count": null,
      "outputs": []
    },
    {
      "cell_type": "markdown",
      "source": [
        "### pca_regional_drug_summary_df\n",
        "\n",
        "This dataset now contains 6 columns:\n",
        "\n",
        "\n",
        "*   *YEAR*: The year in the format YYYY. There are 4 years-worth of prescribing information in the dataset.\n",
        "*   *YEAR_MONTH*: The year and month, in the format YYYYMM, where 202401 is the same as January 2024. There are 46 year-month values in the data.\n",
        "*   *REGION*: The NHS Region. There are 7 regions in the data.\n",
        "*   *DRUG*: The name of the anti-depressant medicine. There are 32 of these in the data.\n",
        "*   *ITEMS*: How many items were prescribed.\n",
        "*   *COST*: The combined cost for all those items.\n",
        "\n",
        "In a sentence we could describe this dataset as:\n",
        "\n",
        "- Per English NHS Region and per year-month, the volume and cost of each antidepressant drug prescribed.\n",
        "\n",
        "And what we are going to do with this data is:\n",
        "\n",
        "- Understand national and regional prescribing volumes and costs\n",
        "- Understand national and regional prescribing trends\n",
        "- Understand monthly and annual trends\n",
        "- And finally, maybe even predict future monthly anti-depressant prescribing volumes\n"
      ],
      "metadata": {
        "id": "vGwVKNw5cgui"
      }
    },
    {
      "cell_type": "code",
      "source": [
        "pca_regional_drug_summary_df = pd.read_csv('/content/Digdata/BSA_ODP_PCA_REGIONAL_DRUG_SUMMARY.csv')\n",
        "\n",
        "display(pca_regional_drug_summary_df)"
      ],
      "metadata": {
        "id": "ojEpIZp3Wt5Z"
      },
      "execution_count": null,
      "outputs": []
    },
    {
      "cell_type": "markdown",
      "source": [
        "### pca_regional_summary_df\n",
        "\n",
        "So we can see that the original data differs in a few ways:\n",
        "\n",
        "- It only contains antidepressant drugs\n",
        "- It doesn't contain BNF Chapter and BNF Section information\n",
        "\n",
        "The BNF stands for the *British National Formulary*.\n",
        "The BNF is structured hierarchically into Chapters, Sections and Chemical Substances (Drugs).\n",
        "\n",
        "For example:\n",
        "\n",
        "- Amitriptyline hydrochloride is an actual antidepressant *DRUG*\n",
        "- Amitriptyline hydrochloride is one of many *DRUG* within the 'Antidepressant drugs' *BNF_SECTION*\n",
        "- Antidepressant drugs is one of many *BNF_SECTION* within the '04: Central Nervous System' *BNF_CHAPTER*\n",
        "- And there are 23 *BNF_CHAPTER* (although very little prescribing stems from some of the chapters)\n",
        "\n",
        "In summary, BNF chapters are split into sections, which are then split into actual drugs (i.e. a hierarchy)."
      ],
      "metadata": {
        "id": "umfiTvZxdmv8"
      }
    },
    {
      "cell_type": "code",
      "source": [
        "pca_regional_summary_df = pd.read_csv('/content/Digdata/BSA_ODP_PCA_REGIONAL_SUMMARY.csv')\n",
        "\n",
        "display(pca_regional_summary_df)"
      ],
      "metadata": {
        "id": "7hqRWBK4XOEK"
      },
      "execution_count": null,
      "outputs": []
    },
    {
      "cell_type": "markdown",
      "source": [
        "# Part 1 Pandas introduction: Transforming and Aggregating Data"
      ],
      "metadata": {
        "id": "dXSpjJRswS8-"
      }
    },
    {
      "cell_type": "markdown",
      "source": [
        "#### Printing data\n",
        "\n",
        "There are a few methods you can use to view your dataframe, given the name df:\n",
        "\n",
        "\n",
        "```python\n",
        "# shows you the top 5 rows of a dataframe\n",
        "df.head(5)\n",
        "\n",
        "# this displays your dataframe\n",
        "display(df)\n",
        "\n",
        "# this displays the datatype of each column\n",
        "df.info()\n",
        "\n",
        "# this prints a list of columns in the df\n",
        "df.columns\n",
        "```"
      ],
      "metadata": {
        "id": "eE0vYVrJxSVI"
      }
    },
    {
      "cell_type": "markdown",
      "source": [
        "#### Selecting data\n",
        "\n",
        "To view only one, or multiple columns in the dataframe, use the following syntax:\n",
        "\n",
        "```python\n",
        "#this will display a single column, 'prescription_count'\n",
        "df['prescription_count']\n",
        "\n",
        "#this will display both 'prescription_count' and 'gp_practice'. Remember to use double brackets to view multiple columns!\n",
        "df[['prescription_count', 'gp_practice']]\n",
        "\n"
      ],
      "metadata": {
        "id": "onn1LlV5xP7p"
      }
    },
    {
      "cell_type": "markdown",
      "source": [
        "#### Aggregating data\n",
        "\n",
        "To read more:\n",
        "\n",
        "*   [grouby documentation](https://pandas.pydata.org/docs/reference/api/pandas.DataFrame.groupby.html)\n",
        "\n",
        "*   [sort_values documentation](https://pandas.pydata.org/docs/reference/api/pandas.DataFrame.sort_values.html)\n",
        "\n",
        "\n",
        "\n",
        "```python\n",
        "# this calculates the total number stored in 'prescription_count', so the total count of prescriptions\n",
        "df['prescription_count'].sum()\n",
        "\n",
        "# this calculates the total number of prescriptions, grouped by GP practice\n",
        "df.groupby('gp_practice', as_index=False)['prescription_count'].sum()\n",
        "\n",
        "# this sorts the values of the df by the values in column 'cost' from low to high\n",
        "df.sort_values(by=['cost'])\n",
        "\n"
      ],
      "metadata": {
        "id": "dz-0wbTM3QoL"
      }
    },
    {
      "cell_type": "markdown",
      "source": [
        "#### Filtering data\n",
        "\n",
        "To read more:\n",
        "\n",
        "\n",
        "*   [Filtering to a column value](https://www.geeksforgeeks.org/ways-to-filter-pandas-dataframe-by-column-values/)\n",
        "*   [Using the query method](https://www.w3schools.com/python/pandas/ref_df_query.asp)\n",
        "\n",
        "\n",
        "\n",
        "```python\n",
        "\n",
        "# this filters to a specific value within a column, in this instance where the year is 2023\n",
        "df[df['year']==2023]\n",
        "\n",
        "# this filters to where drug counts are greater than 100\n",
        "df[df['drug_count']>100]\n",
        "\n",
        "# this also filters to where drug counts are greater than 100\n",
        "df.query('drug_count > 100')\n"
      ],
      "metadata": {
        "id": "QdRhZC5c7GCO"
      }
    },
    {
      "cell_type": "markdown",
      "source": [
        "## Part 1: Transforming and Aggregating Data Exercises"
      ],
      "metadata": {
        "id": "HNdID3GrF5mG"
      }
    },
    {
      "cell_type": "markdown",
      "source": [
        "### Question 1: Nationally, calculate the top 10 prescribed anti-depressants across the whole time frame, sorted from biggest from smallest."
      ],
      "metadata": {
        "id": "XDoppWNCFmfs"
      }
    },
    {
      "cell_type": "code",
      "source": [],
      "metadata": {
        "id": "KrdR79Ood7v7"
      },
      "execution_count": null,
      "outputs": []
    },
    {
      "cell_type": "markdown",
      "source": [
        "### Question 2: Calculate the monthly national cost of Mirtazapine prescribing"
      ],
      "metadata": {
        "id": "irJwiwFTFtGb"
      }
    },
    {
      "cell_type": "code",
      "source": [],
      "metadata": {
        "id": "sYwlLOvdFsd0"
      },
      "execution_count": null,
      "outputs": []
    },
    {
      "cell_type": "markdown",
      "source": [
        "### Question 3: What is the annual spend of Sertraline hydrochloride prescribing in the Midlands region?"
      ],
      "metadata": {
        "id": "EAjLYzKyFwdx"
      }
    },
    {
      "cell_type": "code",
      "source": [],
      "metadata": {
        "id": "AMYBQ24JFxap"
      },
      "execution_count": null,
      "outputs": []
    },
    {
      "cell_type": "markdown",
      "source": [
        "# Part 2: Data Visualisation\n",
        "\n",
        "Visualising is an important tool in both analytics and data science.\n",
        "\n",
        "Visualising data can help us better understand data and see trends in data, amongst other things.\n",
        "\n",
        "There are several packages which you can explore through these links here:\n",
        "\n",
        "*   A good start point for data visualisations in pandas can be found here-  https://www.geeksforgeeks.org/pandas-built-in-data-visualization-ml/\n",
        "*   Introduction to the python package matplotlib - https://www.geeksforgeeks.org/python-introduction-matplotlib/\n",
        "*   Introduction to the python package seaborn - https://www.geeksforgeeks.org/introduction-to-seaborn-python/\n",
        "\n",
        "\n",
        "\n"
      ],
      "metadata": {
        "id": "-2QVp4H_LM3h"
      }
    },
    {
      "cell_type": "markdown",
      "source": [
        "## Part 2: Data Visualisation Exercises"
      ],
      "metadata": {
        "id": "w4PSNAgGOOfC"
      }
    },
    {
      "cell_type": "markdown",
      "source": [
        "### Question 1: Create a horizontal bar chart of the top 5 most prescribed drugs in 2024, arranged in order."
      ],
      "metadata": {
        "id": "A95ZqEuIHGiV"
      }
    },
    {
      "cell_type": "code",
      "source": [],
      "metadata": {
        "id": "jcAI8lw4HJop"
      },
      "execution_count": null,
      "outputs": []
    },
    {
      "cell_type": "markdown",
      "source": [
        "### Question 2: Create a vertical bar chart showing the total annual cost of Sertraline hydrochloride prescribing in the NORTH WEST region.\n"
      ],
      "metadata": {
        "id": "qh1awVKaHMdK"
      }
    },
    {
      "cell_type": "code",
      "source": [],
      "metadata": {
        "id": "f6ruw9NhHRLn"
      },
      "execution_count": null,
      "outputs": []
    },
    {
      "cell_type": "markdown",
      "source": [
        "\n",
        "\n",
        "\n",
        "\n",
        "\n",
        "\n",
        "### Question 3: Create a line chart of the nationally monthly cost (rounded to the nearest pound) of escitalopram."
      ],
      "metadata": {
        "id": "rfUWDsMFG_mg"
      }
    },
    {
      "cell_type": "code",
      "source": [],
      "metadata": {
        "id": "cTfZ0L3GG-_p"
      },
      "execution_count": null,
      "outputs": []
    },
    {
      "cell_type": "markdown",
      "source": [
        "# Part 3: Data Metrics and Insights\n"
      ],
      "metadata": {
        "id": "nfIQw82iMjVr"
      }
    },
    {
      "cell_type": "markdown",
      "source": [
        "#### Advanced analysis introduction\n",
        "\n",
        "\n",
        "*   [Introduction to statistics in pandas](https://pandas.pydata.org/docs/getting_started/intro_tutorials/06_calculate_statistics.html)\n",
        "*   [Pivot tables](https://pandas.pydata.org/docs/reference/api/pandas.pivot_table.html)\n",
        "\n",
        "\n",
        "\n",
        "```python\n",
        "# this gives a summary of some descriptive statistics for the dataframe\n",
        "df.describe()\n",
        "\n",
        "# this will return the average number in the drug count field\n",
        "df['drug_count'].mean()\n",
        "\n",
        "# this will return the minimum value, the lowest observed value\n",
        "df['drug_count'].min()\n",
        "\n",
        "# this will return the maximum value, the highest observed value\n",
        "df['drug_count'].max()\n",
        "\n",
        "# this will pivot the df so each row represents a year, the columns are now the regions and the values are the summed count of the items within the column 'drug_count'\n",
        "df.pivot_table(index='year', columns='region', values='drug_count', aggfunc=sum)  \n",
        "\n"
      ],
      "metadata": {
        "id": "S5ukfB_x8NfO"
      }
    },
    {
      "cell_type": "markdown",
      "source": [
        "## Part 3: Data Metrics and Insight Exercises\n",
        "\n",
        "For these exercises, you will need to use the dataframe pca_regional_drug_summary_df\n",
        "\n",
        "\n"
      ],
      "metadata": {
        "id": "UTv5uTNUL2IB"
      }
    },
    {
      "cell_type": "markdown",
      "source": [
        "### Question 1: For context, create a monthly line chart showing total national prescribing cost"
      ],
      "metadata": {
        "id": "i4hMTp3yLWTu"
      }
    },
    {
      "cell_type": "code",
      "source": [],
      "metadata": {
        "id": "40pLvZl7LdxL"
      },
      "execution_count": null,
      "outputs": []
    },
    {
      "cell_type": "markdown",
      "source": [
        "### Question 2: Create *annual* summary statistics, for the min, Q1, median, Q3 and maximum national monthly prescribing cost (i.e. all drugs across all regions)\n"
      ],
      "metadata": {
        "id": "ktk8lbB5Ldbs"
      }
    },
    {
      "cell_type": "code",
      "source": [],
      "metadata": {
        "id": "FwaleXTqLiKg"
      },
      "execution_count": null,
      "outputs": []
    },
    {
      "cell_type": "markdown",
      "source": [
        "\n",
        "### Question 3: Create a grouped boxplot that shows the above information (4 boxplots, 1 per year)"
      ],
      "metadata": {
        "id": "BxFNR5AqLhGo"
      }
    },
    {
      "cell_type": "code",
      "source": [],
      "metadata": {
        "id": "mGomwuLvLgqK"
      },
      "execution_count": null,
      "outputs": []
    },
    {
      "cell_type": "markdown",
      "source": [
        "### Question 4: Calculate the annual *mean* monthly total national prescribing cost and display in a vertical barchart"
      ],
      "metadata": {
        "id": "o7wjqIeFLffJ"
      }
    },
    {
      "cell_type": "code",
      "source": [],
      "metadata": {
        "id": "RJRLJe7nLpD2"
      },
      "execution_count": null,
      "outputs": []
    },
    {
      "cell_type": "code",
      "source": [],
      "metadata": {
        "id": "16QXmQqJLRTj"
      },
      "execution_count": null,
      "outputs": []
    },
    {
      "cell_type": "markdown",
      "source": [
        "### Question 5: Create a (pivoted) table that shows the cost of anti-depressant prescribing per region per year?\n",
        "#### Note: Each row should be a year and each column should be a region."
      ],
      "metadata": {
        "id": "BFEXkvqEFbyY"
      }
    },
    {
      "cell_type": "code",
      "source": [],
      "metadata": {
        "id": "ji6t7tJpf3TR"
      },
      "execution_count": null,
      "outputs": []
    },
    {
      "cell_type": "markdown",
      "source": [
        "# Report Task\n",
        "\n",
        "You are a Public Health Analyst and you have been asked to write a report.\n",
        "This report will describe and analyse antidepressant prescribing, looking at volume and cost, both nationally and regionally.\n",
        "The title of this report is 'Longitudinal Analysis of Antidepressant Prescribing'.\n",
        "Longitudinal just means the analysis is over an extended period of time, which we have with 4 years of monthly data.\n",
        "The report is to be split into two sections:\n",
        "\n",
        "Part One: To set the context for the report, this will be overall national and regional figures\n",
        "\n",
        "Part Two: The will be followed-up by a more exploratory analysis that delves into antidepressant prescribing cost trends.\n",
        "\n",
        "Part Two Extension: Those attempting the extension task can then look at creating standardised metrics to understand more specific prescribing patterns.\n",
        "\n",
        "\n",
        "\n",
        "\n"
      ],
      "metadata": {
        "id": "QjFJuXXBYelL"
      }
    },
    {
      "cell_type": "code",
      "source": [],
      "metadata": {
        "id": "H25B-RblYfY-"
      },
      "execution_count": null,
      "outputs": []
    },
    {
      "cell_type": "markdown",
      "source": [
        "## Part One\n",
        "\n",
        "Part One is a directed analysis and the same content needs to be covered by both streams.\n",
        "These required content for Part One is:\n",
        "\n",
        "1.  Create two vertical bar charts for comparison.\n",
        "    First, create a bar chart showing the total annual antidepressant prescribing (items).\n",
        "    Second, create a bar chart that shows the total antidepressant prescribing cost.\n",
        "    Describe the trend of each chart and compare the charts against each other.\n",
        "\n",
        "2.  Create two tables for comparison.\n",
        "    First, create a table showing the total annual antidepressant prescribing per region (items).\n",
        "    Second, create a table showing the annual antidepressant prescribing cost per region.\n",
        "    Describe some regional changes and contrasts between 2021 and 2024.\n",
        "\n",
        "3.  By now you may have noticed there are contrasts between antidepressant prescribing volumes and costs.\n",
        "    Next, we will create two horizontal bar charts for comparison.\n",
        "    First, create an [ordered bar chart](https://service-manual.ons.gov.uk/data-visualisation/guidance/ordering-in-charts#:~:text=When%20showing%20the%20categories%20in%20a%20chart%2C%20for,bar%20chart%2C%20sort%20the%20categories%20by%20their%20value.) showing the 10 most prescribed antidepressants across the four years (items).\n",
        "    Second, create an [ordered bar chart](https://service-manual.ons.gov.uk/data-visualisation/guidance/ordering-in-charts#:~:text=When%20showing%20the%20categories%20in%20a%20chart%2C%20for,bar%20chart%2C%20sort%20the%20categories%20by%20their%20value.) that shows antidepressants with the greatest total prescribing cost across the entire four year period..\n",
        "    Highlight and describe any differences between the charts.\n",
        "\n",
        "Try and make text between sections flow, so the report reads well.\n",
        "The findings from part one may inform how you approach part two."
      ],
      "metadata": {
        "id": "_MVITvhPYx2Y"
      }
    },
    {
      "cell_type": "code",
      "source": [],
      "metadata": {
        "id": "0ZiA4xLBYxaN"
      },
      "execution_count": null,
      "outputs": []
    },
    {
      "cell_type": "markdown",
      "source": [
        "## Part Two (Longitudinal Analysis)\n",
        "\n",
        "Now you have a good understanding around national and regional antidepressant prescribing volume and cost trends.\n",
        "You will be given various topics or points to explore, and you will decide what approach or charts best does this.\n",
        "To supplement the initial analysis, you will now:\n",
        "\n",
        "-   Look at the longitudinal (monthly) trend for all antidepressant items and for the cost of antidepressant prescribing\n",
        "-   Then, explore the data and find the antidepressant drugs that are driving these monthly item and cost trends.\n",
        "-   Then give a high-level summary to your work and findings.\n"
      ],
      "metadata": {
        "id": "PIqM7I1QYtjc"
      }
    },
    {
      "cell_type": "code",
      "source": [],
      "metadata": {
        "id": "Az12GABYY_yT"
      },
      "execution_count": null,
      "outputs": []
    },
    {
      "cell_type": "markdown",
      "source": [
        "## Part Two Extension (Antidepressant Case studies)\n",
        "\n",
        "The extension is only to be attempted if you completed the data_metrics_and_insights learning material and exercises.\n",
        "The analyses within this section will delve a bit deeper into antidepressant prescribing costs.\n",
        "\n",
        "-   Focus one one or more antidepressants that play a significant role in national volume and cost trends\n",
        "-   Percentage of total antidepressant volume or cost from a drug\n",
        "-   Mean cost per item in relation a drug\n",
        "-   Distribution of mean cost per item values for a drug\n",
        "-   Anything else you think might be informative or relevant (be creative!)\n",
        "-   Then give a high-level summary to your work and findings.\n",
        "\n"
      ],
      "metadata": {
        "id": "xWOLTc3hYqKx"
      }
    },
    {
      "cell_type": "code",
      "source": [],
      "metadata": {
        "id": "a_wEyeKhZATE"
      },
      "execution_count": null,
      "outputs": []
    }
  ]
}
